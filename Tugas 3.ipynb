{
 "cells": [
  {
   "cell_type": "code",
   "execution_count": null,
   "id": "c1cf0403",
   "metadata": {},
   "outputs": [],
   "source": [
    "# melakukan import mysql connector\n",
    "import mysql.connector\n",
    "\n",
    "# Melakukan percobaab koneksi \n",
    "conn = mysql.connector.connect(\n",
    "    host=\"localhost/127.0.0.1\",user=\"mySQL\",password=\"*****\", database=\"KARYAWAN\")\n",
    "\n",
    "# Membuat object cursor sebagai penanda\n",
    "cursor = conn.cursor()\n",
    "\n",
    "# Deklarasi SQL Query untuk memasukan record ke DB (karyawan)\n",
    "Insert_sql = \"INSERT INTO KARYAMAN (FIRST_NAME, LAST_NAME, AGE, SEX, INCOME) VALUES (%s, %s, %s)\"\n",
    "values = ('Nurul', 'Ilahi', 26 ,'Single')\n",
    "\n",
    "try : \n",
    "    # eksekusi SQL Command\n",
    "    cursor.execute(Insert_sql, values)\n",
    "    \n",
    "    # Melakukan perubahan (commit) pada DB\n",
    "    con.commit()\n",
    "\n",
    "except mysql.connector.Error as error:\n",
    "    # Roll back apabila terjadi issue dan cetak pesan kesalahan\n",
    "    print(\"Terjadi kesalahan:\", error)\n",
    "    conn.rollback()\n",
    "    \n",
    "# Menutup Koneksi\n",
    "    cursor.close()\n",
    "    conn.close()\n"
   ]
  },
  {
   "cell_type": "code",
   "execution_count": null,
   "id": "e31d8c84",
   "metadata": {},
   "outputs": [],
   "source": []
  }
 ],
 "metadata": {
  "kernelspec": {
   "display_name": "Python 3 (ipykernel)",
   "language": "python",
   "name": "python3"
  },
  "language_info": {
   "codemirror_mode": {
    "name": "ipython",
    "version": 3
   },
   "file_extension": ".py",
   "mimetype": "text/x-python",
   "name": "python",
   "nbconvert_exporter": "python",
   "pygments_lexer": "ipython3",
   "version": "3.9.13"
  }
 },
 "nbformat": 4,
 "nbformat_minor": 5
}
